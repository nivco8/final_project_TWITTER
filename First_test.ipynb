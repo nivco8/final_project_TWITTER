{
 "cells": [
  {
   "cell_type": "code",
   "execution_count": 1,
   "metadata": {
    "collapsed": true
   },
   "outputs": [],
   "source": [
    "import sys\n",
    "import config\n",
    "import os\n",
    "import pandas as pd\n",
    "import matplotlib.pyplot as plt\n",
    "import numpy as np\n",
    "import re\n",
    "from sklearn.feature_extraction.text import CountVectorizer\n",
    "import prep as prep\n",
    "%matplotlib inline"
   ]
  },
  {
   "cell_type": "code",
   "execution_count": 45,
   "outputs": [],
   "source": [
    "os.chdir(\"C:\\\\Users\\\\idanh\\\\Documents\\\\תעונ שנה ד\\\\פרויקט גמר\\\\New test\")\n",
    "df = pd.read_csv(\"df.csv\")\n",
    "users = pd.read_csv('users.csv')\n",
    "bio = pd.read_csv('bio_df.csv')"
   ],
   "metadata": {
    "collapsed": false,
    "pycharm": {
     "name": "#%%\n"
    }
   }
  },
  {
   "cell_type": "code",
   "execution_count": 5,
   "outputs": [
    {
     "data": {
      "text/plain": "                                   referenced_tweets lang           source  \\\n0  [{'type': 'retweeted', 'id': '1508646816463523...   en  Twitter Web App   \n1  [{'type': 'retweeted', 'id': '1508776971190288...   en  Twitter Web App   \n\n                                      public_metrics      conversation_id  \\\n0  {'retweet_count': 17, 'reply_count': 0, 'like_...  1508957066743922692   \n1  {'retweet_count': 1395, 'reply_count': 0, 'lik...  1508956994119557121   \n\n                    id  author_id                created_at  \\\n0  1508957066743922692  103433534  2022-03-29T23:59:34.000Z   \n1  1508956994119557121  604251708  2022-03-29T23:59:17.000Z   \n\n                                                text reply_settings  \\\n0  RT @insulinforlife: From IFL USA team to a hos...       everyone   \n1  RT @IAmAaronWill: Obesity kills 2.8 million pe...       everyone   \n\n   in_reply_to_user_id  geo  \n0                  NaN  NaN  \n1                  NaN  NaN  ",
      "text/html": "<div>\n<style scoped>\n    .dataframe tbody tr th:only-of-type {\n        vertical-align: middle;\n    }\n\n    .dataframe tbody tr th {\n        vertical-align: top;\n    }\n\n    .dataframe thead th {\n        text-align: right;\n    }\n</style>\n<table border=\"1\" class=\"dataframe\">\n  <thead>\n    <tr style=\"text-align: right;\">\n      <th></th>\n      <th>referenced_tweets</th>\n      <th>lang</th>\n      <th>source</th>\n      <th>public_metrics</th>\n      <th>conversation_id</th>\n      <th>id</th>\n      <th>author_id</th>\n      <th>created_at</th>\n      <th>text</th>\n      <th>reply_settings</th>\n      <th>in_reply_to_user_id</th>\n      <th>geo</th>\n    </tr>\n  </thead>\n  <tbody>\n    <tr>\n      <th>0</th>\n      <td>[{'type': 'retweeted', 'id': '1508646816463523...</td>\n      <td>en</td>\n      <td>Twitter Web App</td>\n      <td>{'retweet_count': 17, 'reply_count': 0, 'like_...</td>\n      <td>1508957066743922692</td>\n      <td>1508957066743922692</td>\n      <td>103433534</td>\n      <td>2022-03-29T23:59:34.000Z</td>\n      <td>RT @insulinforlife: From IFL USA team to a hos...</td>\n      <td>everyone</td>\n      <td>NaN</td>\n      <td>NaN</td>\n    </tr>\n    <tr>\n      <th>1</th>\n      <td>[{'type': 'retweeted', 'id': '1508776971190288...</td>\n      <td>en</td>\n      <td>Twitter Web App</td>\n      <td>{'retweet_count': 1395, 'reply_count': 0, 'lik...</td>\n      <td>1508956994119557121</td>\n      <td>1508956994119557121</td>\n      <td>604251708</td>\n      <td>2022-03-29T23:59:17.000Z</td>\n      <td>RT @IAmAaronWill: Obesity kills 2.8 million pe...</td>\n      <td>everyone</td>\n      <td>NaN</td>\n      <td>NaN</td>\n    </tr>\n  </tbody>\n</table>\n</div>"
     },
     "execution_count": 5,
     "metadata": {},
     "output_type": "execute_result"
    }
   ],
   "source": [
    "df[:2]"
   ],
   "metadata": {
    "collapsed": false,
    "pycharm": {
     "name": "#%%\n"
    }
   }
  },
  {
   "cell_type": "code",
   "execution_count": 16,
   "outputs": [
    {
     "data": {
      "text/plain": "         user_name                                               text\n0          nyy0420  RT @insulinforlife: From IFL USA team to a hos...\n1    Phiillychamps  RT @IAmAaronWill: Obesity kills 2.8 million pe...\n2  GrammarDomin8rx  RT @insulinforlife: From IFL USA team to a hos...\n3          kronty_  @chibijaxie Are you also talking about diabete...\n4        stacyjuba  When Writing Gets Derailed: Having A  Child Wi...\n5        sxbxstx4n  nada que esta chica se quiere morir de diabete...\n6  Newsroomoffical  Surprising benefits of jamun or black plum, fr...\n7         denhoz24  RT @IAmAaronWill: Obesity kills 2.8 million pe...\n8    jason67248217  @Kip_Andersen do you still stand by ‘What the ...\n9     SalereiStick  RT @homeeartsy: ‼️URGENT!! PLEASE HELP WITH IN...",
      "text/html": "<div>\n<style scoped>\n    .dataframe tbody tr th:only-of-type {\n        vertical-align: middle;\n    }\n\n    .dataframe tbody tr th {\n        vertical-align: top;\n    }\n\n    .dataframe thead th {\n        text-align: right;\n    }\n</style>\n<table border=\"1\" class=\"dataframe\">\n  <thead>\n    <tr style=\"text-align: right;\">\n      <th></th>\n      <th>user_name</th>\n      <th>text</th>\n    </tr>\n  </thead>\n  <tbody>\n    <tr>\n      <th>0</th>\n      <td>nyy0420</td>\n      <td>RT @insulinforlife: From IFL USA team to a hos...</td>\n    </tr>\n    <tr>\n      <th>1</th>\n      <td>Phiillychamps</td>\n      <td>RT @IAmAaronWill: Obesity kills 2.8 million pe...</td>\n    </tr>\n    <tr>\n      <th>2</th>\n      <td>GrammarDomin8rx</td>\n      <td>RT @insulinforlife: From IFL USA team to a hos...</td>\n    </tr>\n    <tr>\n      <th>3</th>\n      <td>kronty_</td>\n      <td>@chibijaxie Are you also talking about diabete...</td>\n    </tr>\n    <tr>\n      <th>4</th>\n      <td>stacyjuba</td>\n      <td>When Writing Gets Derailed: Having A  Child Wi...</td>\n    </tr>\n    <tr>\n      <th>5</th>\n      <td>sxbxstx4n</td>\n      <td>nada que esta chica se quiere morir de diabete...</td>\n    </tr>\n    <tr>\n      <th>6</th>\n      <td>Newsroomoffical</td>\n      <td>Surprising benefits of jamun or black plum, fr...</td>\n    </tr>\n    <tr>\n      <th>7</th>\n      <td>denhoz24</td>\n      <td>RT @IAmAaronWill: Obesity kills 2.8 million pe...</td>\n    </tr>\n    <tr>\n      <th>8</th>\n      <td>jason67248217</td>\n      <td>@Kip_Andersen do you still stand by ‘What the ...</td>\n    </tr>\n    <tr>\n      <th>9</th>\n      <td>SalereiStick</td>\n      <td>RT @homeeartsy: ‼️URGENT!! PLEASE HELP WITH IN...</td>\n    </tr>\n  </tbody>\n</table>\n</div>"
     },
     "execution_count": 16,
     "metadata": {},
     "output_type": "execute_result"
    }
   ],
   "source": [
    "users[:10]"
   ],
   "metadata": {
    "collapsed": false,
    "pycharm": {
     "name": "#%%\n"
    }
   }
  },
  {
   "cell_type": "code",
   "execution_count": 20,
   "outputs": [
    {
     "data": {
      "text/plain": "         user_name                                               text  URL  \\\n0          nyy0420  RT @insulinforlife: From IFL USA team to a hos...    0   \n1    Phiillychamps  RT @IAmAaronWill: Obesity kills 2.8 million pe...    0   \n2  GrammarDomin8rx  RT @insulinforlife: From IFL USA team to a hos...    0   \n3          kronty_  @chibijaxie Are you also talking about diabete...    0   \n4        stacyjuba  When Writing Gets Derailed: Having A  Child Wi...    1   \n5        sxbxstx4n  nada que esta chica se quiere morir de diabete...    1   \n6  Newsroomoffical  Surprising benefits of jamun or black plum, fr...    1   \n7         denhoz24  RT @IAmAaronWill: Obesity kills 2.8 million pe...    0   \n8    jason67248217  @Kip_Andersen do you still stand by ‘What the ...    0   \n9     SalereiStick  RT @homeeartsy: ‼️URGENT!! PLEASE HELP WITH IN...    0   \n\n   Curse  Person  Interjections  Polarity  PolarityPos  PolarityNeg  \\\n0      0       0              0  0.400000            1            0   \n1      0       0              0  0.000000            0            0   \n2      0       0              0  0.400000            1            0   \n3      0       1              0  0.000000            0            0   \n4      0       0              0  0.000000            0            0   \n5      0       0              0  0.000000            0            0   \n6      0       0              0  0.266667            1            0   \n7      0       0              0  0.000000            0            0   \n8      0       0              0  0.175000            1            0   \n9      0       1              0  0.600000            1            0   \n\n   Subjectivity  Hashtags  Mention  Length  Words  \n0      0.400000         0        1     140     24  \n1      0.000000         0        1     140     21  \n2      0.400000         0        1     140     24  \n3      0.000000         0        1      89     14  \n4      0.000000         0        0      88     12  \n5      0.000000         0        0      76     11  \n6      0.466667         0        0     108     15  \n7      0.000000         0        1     140     21  \n8      0.333333         1        1     201     34  \n9      0.900000         0        1     140     25  ",
      "text/html": "<div>\n<style scoped>\n    .dataframe tbody tr th:only-of-type {\n        vertical-align: middle;\n    }\n\n    .dataframe tbody tr th {\n        vertical-align: top;\n    }\n\n    .dataframe thead th {\n        text-align: right;\n    }\n</style>\n<table border=\"1\" class=\"dataframe\">\n  <thead>\n    <tr style=\"text-align: right;\">\n      <th></th>\n      <th>user_name</th>\n      <th>text</th>\n      <th>URL</th>\n      <th>Curse</th>\n      <th>Person</th>\n      <th>Interjections</th>\n      <th>Polarity</th>\n      <th>PolarityPos</th>\n      <th>PolarityNeg</th>\n      <th>Subjectivity</th>\n      <th>Hashtags</th>\n      <th>Mention</th>\n      <th>Length</th>\n      <th>Words</th>\n    </tr>\n  </thead>\n  <tbody>\n    <tr>\n      <th>0</th>\n      <td>nyy0420</td>\n      <td>RT @insulinforlife: From IFL USA team to a hos...</td>\n      <td>0</td>\n      <td>0</td>\n      <td>0</td>\n      <td>0</td>\n      <td>0.400000</td>\n      <td>1</td>\n      <td>0</td>\n      <td>0.400000</td>\n      <td>0</td>\n      <td>1</td>\n      <td>140</td>\n      <td>24</td>\n    </tr>\n    <tr>\n      <th>1</th>\n      <td>Phiillychamps</td>\n      <td>RT @IAmAaronWill: Obesity kills 2.8 million pe...</td>\n      <td>0</td>\n      <td>0</td>\n      <td>0</td>\n      <td>0</td>\n      <td>0.000000</td>\n      <td>0</td>\n      <td>0</td>\n      <td>0.000000</td>\n      <td>0</td>\n      <td>1</td>\n      <td>140</td>\n      <td>21</td>\n    </tr>\n    <tr>\n      <th>2</th>\n      <td>GrammarDomin8rx</td>\n      <td>RT @insulinforlife: From IFL USA team to a hos...</td>\n      <td>0</td>\n      <td>0</td>\n      <td>0</td>\n      <td>0</td>\n      <td>0.400000</td>\n      <td>1</td>\n      <td>0</td>\n      <td>0.400000</td>\n      <td>0</td>\n      <td>1</td>\n      <td>140</td>\n      <td>24</td>\n    </tr>\n    <tr>\n      <th>3</th>\n      <td>kronty_</td>\n      <td>@chibijaxie Are you also talking about diabete...</td>\n      <td>0</td>\n      <td>0</td>\n      <td>1</td>\n      <td>0</td>\n      <td>0.000000</td>\n      <td>0</td>\n      <td>0</td>\n      <td>0.000000</td>\n      <td>0</td>\n      <td>1</td>\n      <td>89</td>\n      <td>14</td>\n    </tr>\n    <tr>\n      <th>4</th>\n      <td>stacyjuba</td>\n      <td>When Writing Gets Derailed: Having A  Child Wi...</td>\n      <td>1</td>\n      <td>0</td>\n      <td>0</td>\n      <td>0</td>\n      <td>0.000000</td>\n      <td>0</td>\n      <td>0</td>\n      <td>0.000000</td>\n      <td>0</td>\n      <td>0</td>\n      <td>88</td>\n      <td>12</td>\n    </tr>\n    <tr>\n      <th>5</th>\n      <td>sxbxstx4n</td>\n      <td>nada que esta chica se quiere morir de diabete...</td>\n      <td>1</td>\n      <td>0</td>\n      <td>0</td>\n      <td>0</td>\n      <td>0.000000</td>\n      <td>0</td>\n      <td>0</td>\n      <td>0.000000</td>\n      <td>0</td>\n      <td>0</td>\n      <td>76</td>\n      <td>11</td>\n    </tr>\n    <tr>\n      <th>6</th>\n      <td>Newsroomoffical</td>\n      <td>Surprising benefits of jamun or black plum, fr...</td>\n      <td>1</td>\n      <td>0</td>\n      <td>0</td>\n      <td>0</td>\n      <td>0.266667</td>\n      <td>1</td>\n      <td>0</td>\n      <td>0.466667</td>\n      <td>0</td>\n      <td>0</td>\n      <td>108</td>\n      <td>15</td>\n    </tr>\n    <tr>\n      <th>7</th>\n      <td>denhoz24</td>\n      <td>RT @IAmAaronWill: Obesity kills 2.8 million pe...</td>\n      <td>0</td>\n      <td>0</td>\n      <td>0</td>\n      <td>0</td>\n      <td>0.000000</td>\n      <td>0</td>\n      <td>0</td>\n      <td>0.000000</td>\n      <td>0</td>\n      <td>1</td>\n      <td>140</td>\n      <td>21</td>\n    </tr>\n    <tr>\n      <th>8</th>\n      <td>jason67248217</td>\n      <td>@Kip_Andersen do you still stand by ‘What the ...</td>\n      <td>0</td>\n      <td>0</td>\n      <td>0</td>\n      <td>0</td>\n      <td>0.175000</td>\n      <td>1</td>\n      <td>0</td>\n      <td>0.333333</td>\n      <td>1</td>\n      <td>1</td>\n      <td>201</td>\n      <td>34</td>\n    </tr>\n    <tr>\n      <th>9</th>\n      <td>SalereiStick</td>\n      <td>RT @homeeartsy: ‼️URGENT!! PLEASE HELP WITH IN...</td>\n      <td>0</td>\n      <td>0</td>\n      <td>1</td>\n      <td>0</td>\n      <td>0.600000</td>\n      <td>1</td>\n      <td>0</td>\n      <td>0.900000</td>\n      <td>0</td>\n      <td>1</td>\n      <td>140</td>\n      <td>25</td>\n    </tr>\n  </tbody>\n</table>\n</div>"
     },
     "execution_count": 20,
     "metadata": {},
     "output_type": "execute_result"
    }
   ],
   "source": [
    "bio[:10]"
   ],
   "metadata": {
    "collapsed": false,
    "pycharm": {
     "name": "#%%\n"
    }
   }
  },
  {
   "cell_type": "code",
   "execution_count": 46,
   "outputs": [],
   "source": [
    "#concatenating same user's tweets to the same row\n",
    "users_concat = []\n",
    "tweets = []\n",
    "i=0\n",
    "while i<len(users[['user_name']])-1:\n",
    "    user = users.iloc[i]['user_name']\n",
    "    text = users.iloc[i]['text']\n",
    "    i = i+1\n",
    "    while users.iloc[i]['user_name'] == user:\n",
    "        text = text + '\\n' + users.iloc[i]['text']\n",
    "        i = i+1\n",
    "    users_concat.append(user)\n",
    "    tweets.append(text)"
   ],
   "metadata": {
    "collapsed": false,
    "pycharm": {
     "name": "#%%\n"
    }
   }
  },
  {
   "cell_type": "code",
   "execution_count": 47,
   "outputs": [],
   "source": [
    "list_of_tuples = list(zip(users_concat, tweets))\n",
    "tweet_per_user = pd.DataFrame(list_of_tuples, columns = ['user_name', 'text'])"
   ],
   "metadata": {
    "collapsed": false,
    "pycharm": {
     "name": "#%%\n"
    }
   }
  },
  {
   "cell_type": "code",
   "execution_count": 48,
   "outputs": [],
   "source": [
    "df = pd.merge(df, tweet_per_user,how='left' ,on=['user_name'])\n",
    "df = df.loc[:, df.columns != 'Unnamed: 0_x']\n",
    "df = df.loc[:, df.columns != 'Unnamed: 0_y']"
   ],
   "metadata": {
    "collapsed": false,
    "pycharm": {
     "name": "#%%\n"
    }
   }
  },
  {
   "cell_type": "code",
   "execution_count": 50,
   "outputs": [],
   "source": [
    "df = pd.merge(df, bio, how='left' ,on=['user_name'])\n",
    "df = df.loc[:, df.columns != 'Unnamed: 0_x']\n",
    "df = df.loc[:, df.columns != 'Unnamed: 0_y']"
   ],
   "metadata": {
    "collapsed": false,
    "pycharm": {
     "name": "#%%\n"
    }
   }
  },
  {
   "cell_type": "code",
   "execution_count": 51,
   "outputs": [],
   "source": [
    "df = df.fillna(0)"
   ],
   "metadata": {
    "collapsed": false,
    "pycharm": {
     "name": "#%%\n"
    }
   }
  },
  {
   "cell_type": "code",
   "execution_count": null,
   "outputs": [],
   "source": [],
   "metadata": {
    "collapsed": false,
    "pycharm": {
     "name": "#%%\n"
    }
   }
  }
 ],
 "metadata": {
  "kernelspec": {
   "display_name": "Python 3",
   "language": "python",
   "name": "python3"
  },
  "language_info": {
   "codemirror_mode": {
    "name": "ipython",
    "version": 2
   },
   "file_extension": ".py",
   "mimetype": "text/x-python",
   "name": "python",
   "nbconvert_exporter": "python",
   "pygments_lexer": "ipython2",
   "version": "2.7.6"
  }
 },
 "nbformat": 4,
 "nbformat_minor": 0
}